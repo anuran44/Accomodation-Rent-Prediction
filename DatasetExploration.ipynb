{
 "cells": [
  {
   "cell_type": "code",
   "execution_count": 1,
   "metadata": {},
   "outputs": [],
   "source": [
    "import pandas as pd"
   ]
  },
  {
   "cell_type": "code",
   "execution_count": 2,
   "metadata": {},
   "outputs": [],
   "source": [
    "df1 = pd.read_csv('AhmedabadDataset.csv')\n",
    "df2 = pd.read_csv('BangaloreDataset.csv')\n",
    "df3 = pd.read_csv('ChennaiDataset.csv')\n",
    "df4 = pd.read_csv('DelhiDataset.csv')\n",
    "df5 = pd.read_csv('HyderabadDataset.csv')\n",
    "df6 = pd.read_csv('KolkataDataset.csv')\n",
    "df7 = pd.read_csv('MumbaiDataset.csv')\n",
    "df8 = pd.read_csv('PuneDataset.csv')"
   ]
  },
  {
   "cell_type": "code",
   "execution_count": 3,
   "metadata": {},
   "outputs": [
    {
     "name": "stdout",
     "output_type": "stream",
     "text": [
      "No of Records for Ahmedabad :  18453\n",
      "No of Records for Bangalore :  23072\n",
      "No of Records for Chennai :  8658\n",
      "No of Records for Delhi :  32608\n",
      "No of Records for Hyderabad :  10544\n",
      "No of Records for Kolkata :  9664\n",
      "No of Records for Mumbai :  67416\n",
      "No of Records for Pune :  22596\n"
     ]
    }
   ],
   "source": [
    "print(\"No of Records for Ahmedabad : \" , df1.shape[0])\n",
    "print(\"No of Records for Bangalore : \" , df2.shape[0])\n",
    "print(\"No of Records for Chennai : \" , df3.shape[0])\n",
    "print(\"No of Records for Delhi : \" , df4.shape[0])\n",
    "print(\"No of Records for Hyderabad : \" , df5.shape[0])\n",
    "print(\"No of Records for Kolkata : \" , df6.shape[0])\n",
    "print(\"No of Records for Mumbai : \" , df7.shape[0])\n",
    "print(\"No of Records for Pune : \" , df8.shape[0])"
   ]
  },
  {
   "cell_type": "code",
   "execution_count": 4,
   "metadata": {},
   "outputs": [
    {
     "data": {
      "text/plain": [
       "['layout_type',\n",
       " 'furnish_type',\n",
       " 'city',\n",
       " 'bathroom',\n",
       " 'bedroom',\n",
       " 'seller_type',\n",
       " 'property_type',\n",
       " 'area',\n",
       " 'locality',\n",
       " 'price']"
      ]
     },
     "execution_count": 4,
     "metadata": {},
     "output_type": "execute_result"
    }
   ],
   "source": [
    "list(set(df1) & set(df2) & set(df3) & set(df4) & set(df5) & set(df6) & set(df7) & set(df8))"
   ]
  },
  {
   "cell_type": "code",
   "execution_count": 8,
   "metadata": {},
   "outputs": [
    {
     "data": {
      "text/html": [
       "<div>\n",
       "<style scoped>\n",
       "    .dataframe tbody tr th:only-of-type {\n",
       "        vertical-align: middle;\n",
       "    }\n",
       "\n",
       "    .dataframe tbody tr th {\n",
       "        vertical-align: top;\n",
       "    }\n",
       "\n",
       "    .dataframe thead th {\n",
       "        text-align: right;\n",
       "    }\n",
       "</style>\n",
       "<table border=\"1\" class=\"dataframe\">\n",
       "  <thead>\n",
       "    <tr style=\"text-align: right;\">\n",
       "      <th></th>\n",
       "      <th>seller_type</th>\n",
       "      <th>bedroom</th>\n",
       "      <th>layout_type</th>\n",
       "      <th>property_type</th>\n",
       "      <th>locality</th>\n",
       "      <th>price</th>\n",
       "      <th>area</th>\n",
       "      <th>furnish_type</th>\n",
       "      <th>bathroom</th>\n",
       "      <th>city</th>\n",
       "    </tr>\n",
       "  </thead>\n",
       "  <tbody>\n",
       "    <tr>\n",
       "      <th>10539</th>\n",
       "      <td>AGENT</td>\n",
       "      <td>1.0</td>\n",
       "      <td>BHK</td>\n",
       "      <td>Apartment</td>\n",
       "      <td>Begumpet</td>\n",
       "      <td>6000.0</td>\n",
       "      <td>850.0</td>\n",
       "      <td>Semi-Furnished</td>\n",
       "      <td>1.0</td>\n",
       "      <td>Hyderabad</td>\n",
       "    </tr>\n",
       "    <tr>\n",
       "      <th>10540</th>\n",
       "      <td>AGENT</td>\n",
       "      <td>2.0</td>\n",
       "      <td>BHK</td>\n",
       "      <td>Apartment</td>\n",
       "      <td>Ameerpet</td>\n",
       "      <td>12000.0</td>\n",
       "      <td>1300.0</td>\n",
       "      <td>Semi-Furnished</td>\n",
       "      <td>2.0</td>\n",
       "      <td>Hyderabad</td>\n",
       "    </tr>\n",
       "    <tr>\n",
       "      <th>10541</th>\n",
       "      <td>AGENT</td>\n",
       "      <td>2.0</td>\n",
       "      <td>BHK</td>\n",
       "      <td>Apartment</td>\n",
       "      <td>Ameerpet</td>\n",
       "      <td>15000.0</td>\n",
       "      <td>1200.0</td>\n",
       "      <td>Semi-Furnished</td>\n",
       "      <td>2.0</td>\n",
       "      <td>Hyderabad</td>\n",
       "    </tr>\n",
       "    <tr>\n",
       "      <th>10542</th>\n",
       "      <td>AGENT</td>\n",
       "      <td>2.0</td>\n",
       "      <td>BHK</td>\n",
       "      <td>Apartment</td>\n",
       "      <td>Begumpet</td>\n",
       "      <td>17000.0</td>\n",
       "      <td>1300.0</td>\n",
       "      <td>Furnished</td>\n",
       "      <td>2.0</td>\n",
       "      <td>Hyderabad</td>\n",
       "    </tr>\n",
       "    <tr>\n",
       "      <th>10543</th>\n",
       "      <td>AGENT</td>\n",
       "      <td>2.0</td>\n",
       "      <td>BHK</td>\n",
       "      <td>Apartment</td>\n",
       "      <td>Somajiguda</td>\n",
       "      <td>15000.0</td>\n",
       "      <td>1500.0</td>\n",
       "      <td>Semi-Furnished</td>\n",
       "      <td>2.0</td>\n",
       "      <td>Hyderabad</td>\n",
       "    </tr>\n",
       "  </tbody>\n",
       "</table>\n",
       "</div>"
      ],
      "text/plain": [
       "      seller_type  bedroom layout_type property_type    locality    price  \\\n",
       "10539       AGENT      1.0         BHK     Apartment    Begumpet   6000.0   \n",
       "10540       AGENT      2.0         BHK     Apartment    Ameerpet  12000.0   \n",
       "10541       AGENT      2.0         BHK     Apartment    Ameerpet  15000.0   \n",
       "10542       AGENT      2.0         BHK     Apartment    Begumpet  17000.0   \n",
       "10543       AGENT      2.0         BHK     Apartment  Somajiguda  15000.0   \n",
       "\n",
       "         area    furnish_type  bathroom       city  \n",
       "10539   850.0  Semi-Furnished       1.0  Hyderabad  \n",
       "10540  1300.0  Semi-Furnished       2.0  Hyderabad  \n",
       "10541  1200.0  Semi-Furnished       2.0  Hyderabad  \n",
       "10542  1300.0       Furnished       2.0  Hyderabad  \n",
       "10543  1500.0  Semi-Furnished       2.0  Hyderabad  "
      ]
     },
     "execution_count": 8,
     "metadata": {},
     "output_type": "execute_result"
    }
   ],
   "source": [
    "df5.tail()"
   ]
  }
 ],
 "metadata": {
  "interpreter": {
   "hash": "dececba0b67e741752cd795ed9f0c44900c0a0dc9de27284e682c92f0c00f15c"
  },
  "kernelspec": {
   "display_name": "Python 3.9.0 64-bit",
   "language": "python",
   "name": "python3"
  },
  "language_info": {
   "codemirror_mode": {
    "name": "ipython",
    "version": 3
   },
   "file_extension": ".py",
   "mimetype": "text/x-python",
   "name": "python",
   "nbconvert_exporter": "python",
   "pygments_lexer": "ipython3",
   "version": "3.9.0"
  },
  "orig_nbformat": 4
 },
 "nbformat": 4,
 "nbformat_minor": 2
}
